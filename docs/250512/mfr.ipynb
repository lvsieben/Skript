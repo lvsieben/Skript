{
  "cells": [
    {
      "cell_type": "markdown",
      "id": "6eadb745",
      "metadata": {
        "id": "6eadb745"
      },
      "source": [
        "<a target=\"_blank\" href=\"https://colab.research.google.com/github/SkriptenMk/I_gW_23-27/blob/main/docs/250512/mfr.ipynb\">\n",
        "  <img src=\"https://colab.research.google.com/assets/colab-badge.svg\" alt=\"Open In Colab\"/>\n",
        "</a>"
      ]
    },
    {
      "cell_type": "markdown",
      "id": "8a13ce94",
      "metadata": {
        "id": "8a13ce94"
      },
      "source": [
        "# Mittelflussrechnung mit Python"
      ]
    },
    {
      "cell_type": "markdown",
      "id": "b403589b",
      "metadata": {
        "id": "b403589b"
      },
      "source": [
        "Die Arbeit mit buchhalterischen Daten erfordert Hilfsmittel, um tabellarisch\n",
        "dargestellte Daten zu verarbeiten. *Die* Python Bibliothek für die Arbeit mit\n",
        "tabellarischen Daten ist [*pandas*](https://pandas.pydata.org/).  \n",
        "Die Bibliothek kann in der Python Virtual Environment mit dem Befehl\n",
        "\n",
        "```bash\n",
        "pip install pandas\n",
        "```\n",
        "\n",
        "installiert werden.\n",
        "\n",
        "Anschliessend wird die Bibliothek mit dem Befehl\n",
        "\n",
        "```python\n",
        "import pandas as pd\n",
        "```\n",
        "\n",
        "in das Jupyter Notebook importiert."
      ]
    },
    {
      "cell_type": "markdown",
      "id": "0755e2db",
      "metadata": {
        "id": "0755e2db"
      },
      "source": [
        "## Darstellung der Abschlussrecnnungen in Python"
      ]
    },
    {
      "cell_type": "markdown",
      "id": "9dbbba43",
      "metadata": {
        "id": "9dbbba43"
      },
      "source": [
        "### Aufbereitung der Daten"
      ]
    },
    {
      "cell_type": "markdown",
      "id": "217dba4d",
      "metadata": {
        "id": "217dba4d"
      },
      "source": [
        "Im schulischen Umfeld werden Abschlussrechnungen oft als T-Konto dargestellt.\n",
        "Damit die Daten in Python verarbeitet werden können, ist es am einfachsten, die\n",
        "Information in einen pandas DataFrame zu überführen. Wie das gemacht werden\n",
        "kann, soll das Beispiel der untenstehenden Bilanz zeigen."
      ]
    },
    {
      "cell_type": "markdown",
      "id": "99f34d3f",
      "metadata": {
        "id": "99f34d3f"
      },
      "source": [
        "\n",
        "![Eröffnungsbilanz](https://github.com/SkriptenMk/I_gW_23-27/blob/main/docs/250512/eb.svg?raw=1)"
      ]
    },
    {
      "cell_type": "markdown",
      "id": "20f96d11",
      "metadata": {
        "id": "20f96d11"
      },
      "source": [
        "Als Vorbereitung für den Import der Daten in ein pandas DataFrame werden die\n",
        "Daten der Bilanz in eine CSV-Datei übertragen. Die CSV-Datei besteht\n",
        "aus den Spalten 'Kontonummer', 'Kontoname' und 'Betrag'. Die Kontonummer dient\n",
        "der einfachen Gruppierung der Konten. Die Zuweisung der Kontonummern basiert auf\n",
        "dem\n",
        "[Schweizer Kontenrahmen\n",
        "KMU](https://www.kmu.admin.ch/dam/kmu/de/dokumente/savoir-pratique/Finances/240812%20Schulkontenrahmen%20VEB%20-%20DE.pdf.download.pdf/240812%20Schulkontenrahmen%20VEB%20-%20DE.pdf).\n",
        "\n",
        "Die obige Bilanz sieht als CSV-Datei folgendermassen aus:\n",
        "\n",
        "```csv\n",
        "Kontonummer,Kontoname,Betrag\n",
        "1000,Kasse,10\n",
        "1010,Post,13\n",
        "1020,Bankguthaben,2\n",
        "1100,FLL,40\n",
        "1109,WBForderungen,-4\n",
        "1200,Waren,70\n",
        "1510,Mobilien,50\n",
        "1519,WBMobilien,-20\n",
        "1600,Immobilien,350\n",
        "2000,VLL,45\n",
        "2100,Bankschuld,9\n",
        "2261,Dividende,5\n",
        "2451,Hypothek,210\n",
        "2800,Aktienkapital,220\n",
        "2950,Reserven,20\n",
        "2970,Gewinnvortrag,0\n",
        "```\n",
        "\n",
        "Beim Erstellen der CSV-Datei ist darauf zu achten, dass zwischen den Einträgen\n",
        "und den Kommata kein Leerzeichen steht. Andernfalls kann dies bei der\n",
        "Weiterverarbeitung zu Problemen führen.\n",
        "\n",
        "Die Datei steht [hier zum Download](eb.csv) bereit."
      ]
    },
    {
      "cell_type": "markdown",
      "id": "e3f9da08",
      "metadata": {
        "id": "e3f9da08"
      },
      "source": [
        "Unter der Vorsaussetzung, dass die CSV-Datei im gleichen Verzeichnis liegt, wie\n",
        "das Jupyter Notebook, in dem die Daten verarbeitet werden, findet sich in der\n",
        "Zelle nach dem Import Statement für die pandas Bibliothek der Code, um die\n",
        "CSV-Datei in einen pandas DataFrame einzulesen."
      ]
    },
    {
      "cell_type": "code",
      "execution_count": null,
      "id": "6cad9534",
      "metadata": {
        "id": "6cad9534"
      },
      "outputs": [],
      "source": [
        "import pandas as pd"
      ]
    },
    {
      "cell_type": "code",
      "execution_count": null,
      "id": "ba911051",
      "metadata": {
        "id": "ba911051"
      },
      "outputs": [],
      "source": [
        "# Die Eingaben können auch auf einer Zeile stehen (das hätte hier den Kommentar erschwert)\n",
        "eb = pd.read_csv('eb.csv',       # Pfad zur CSV-Datei -> hier nur der Dateiname, weil im gleichen Verzeichnis\n",
        "                 index_col=0     # Spalte 0 als Index verwenden (die Zwählweise ist 0-basiert)\n",
        "                 )"
      ]
    },
    {
      "cell_type": "markdown",
      "id": "31a17717",
      "metadata": {
        "id": "31a17717"
      },
      "source": [
        "Um zu kontrollieren, ob die Daten korrekt eingelesen wurden, können die ersten\n",
        "fünf Zeilen des Dataframes mit dem Befehl `.head()` angezeigt werden."
      ]
    },
    {
      "cell_type": "code",
      "execution_count": null,
      "id": "2031b6ea",
      "metadata": {
        "id": "2031b6ea",
        "outputId": "82a625a2-65e4-4d0d-d31d-22b218f0ca36"
      },
      "outputs": [
        {
          "data": {
            "text/html": [
              "<div>\n",
              "<style scoped>\n",
              "    .dataframe tbody tr th:only-of-type {\n",
              "        vertical-align: middle;\n",
              "    }\n",
              "\n",
              "    .dataframe tbody tr th {\n",
              "        vertical-align: top;\n",
              "    }\n",
              "\n",
              "    .dataframe thead th {\n",
              "        text-align: right;\n",
              "    }\n",
              "</style>\n",
              "<table border=\"1\" class=\"dataframe\">\n",
              "  <thead>\n",
              "    <tr style=\"text-align: right;\">\n",
              "      <th></th>\n",
              "      <th>Kontoname</th>\n",
              "      <th>Betrag</th>\n",
              "    </tr>\n",
              "    <tr>\n",
              "      <th>Kontonummer</th>\n",
              "      <th></th>\n",
              "      <th></th>\n",
              "    </tr>\n",
              "  </thead>\n",
              "  <tbody>\n",
              "    <tr>\n",
              "      <th>1000</th>\n",
              "      <td>Kasse</td>\n",
              "      <td>10</td>\n",
              "    </tr>\n",
              "    <tr>\n",
              "      <th>1010</th>\n",
              "      <td>Post</td>\n",
              "      <td>13</td>\n",
              "    </tr>\n",
              "    <tr>\n",
              "      <th>1020</th>\n",
              "      <td>Bankguthaben</td>\n",
              "      <td>2</td>\n",
              "    </tr>\n",
              "    <tr>\n",
              "      <th>1100</th>\n",
              "      <td>FLL</td>\n",
              "      <td>40</td>\n",
              "    </tr>\n",
              "    <tr>\n",
              "      <th>1109</th>\n",
              "      <td>WBForderungen</td>\n",
              "      <td>-4</td>\n",
              "    </tr>\n",
              "  </tbody>\n",
              "</table>\n",
              "</div>"
            ],
            "text/plain": [
              "                 Kontoname  Betrag\n",
              "Kontonummer                       \n",
              "1000                 Kasse      10\n",
              "1010                  Post      13\n",
              "1020          Bankguthaben       2\n",
              "1100                   FLL      40\n",
              "1109         WBForderungen      -4"
            ]
          },
          "execution_count": 24,
          "metadata": {},
          "output_type": "execute_result"
        }
      ],
      "source": [
        "eb.head()  # Ausgabe der ersten 5 Zeilen der Tabelle (DataFrame)"
      ]
    },
    {
      "cell_type": "markdown",
      "id": "4312444b",
      "metadata": {
        "id": "4312444b"
      },
      "source": [
        "### Arbeiten mit pandas: Ein einfaches Beispiel"
      ]
    },
    {
      "cell_type": "markdown",
      "id": "f47749cb",
      "metadata": {
        "id": "f47749cb"
      },
      "source": [
        "Das Prinzip für Berechnungen in einem DataFrame ist ähnlich, wie in Excel. Es\n",
        "werden die einzelnen Zellen bzw. Zellenbereiche adressiert und mit diesen\n",
        "Bereichen die gewünschten Berechnungen durchgeführt. Um Beispielsweise das Total\n",
        "der liquide Mittel zu berechnen, wird die Summe der Spalte 'Betrag' für den\n",
        "Bereich der Kontennummern 1000 bis (exklusiv) 1600 gebildet."
      ]
    },
    {
      "cell_type": "code",
      "execution_count": null,
      "id": "0771b491",
      "metadata": {
        "id": "0771b491",
        "outputId": "5b344a98-c3c8-4830-cb3b-ead13fcd076c"
      },
      "outputs": [
        {
          "name": "stdout",
          "output_type": "stream",
          "text": [
            "Die Summe der liquiden Mittel beträgt: 25\n"
          ]
        }
      ],
      "source": [
        "liquide_mittel = eb.loc[1000:1020, 'Betrag'].sum()\n",
        "print(f\"Die Summe der liquiden Mittel beträgt: {liquide_mittel}\")"
      ]
    },
    {
      "cell_type": "markdown",
      "id": "3e956cbb",
      "metadata": {
        "id": "3e956cbb"
      },
      "source": [
        "Die Methode `.loc[]` ermöglicht den Zugriff auf die Zeilen und Spalten eines\n",
        "DataFrames. Der erste Parameter (im Beispiel 1000:1020) wählt die Zeilen mit den\n",
        "Kontonummern von 1000 bis 1020 aus - inklusive der beiden Grenzwerte 1000 und\n",
        "1020. Der zweite Parameter (im Beispiel 'Betrag') wählt die Spalte mit dem Titel\n",
        "Betrag aus. Die Methode `.sum()` berechnet die Summe der ausgewählten Werte."
      ]
    },
    {
      "cell_type": "markdown",
      "id": "3d5192b9",
      "metadata": {
        "id": "3d5192b9"
      },
      "source": [
        "### Vollständiger Datensatz"
      ]
    },
    {
      "cell_type": "markdown",
      "id": "242434ed",
      "metadata": {
        "id": "242434ed"
      },
      "source": [
        "Neben der Eröffnungsbilanz wird für die Rekonstruktion der Mittelflussrechnung\n",
        "auch die Schlussbilanz und die Erfolgsrechnung benötigt. Diese können entweder\n",
        "in spearaten CSV-Dateien gespeichert werden und dann in einen DataFrame\n",
        "zusammengeführt werden, oder die Daten können in einer einzigen CSV-Datei\n",
        "gespeichert werden.\n",
        "\n",
        "In diesem Beispiel soll mit einer einzigen CSV-Datei gearbeitet werden.\n",
        "\n",
        "Die Erfolgsrechnung und die Schlussbilanz sehen folgendermassen aus:\n",
        "\n",
        "![Erfolgsrechnung](https://github.com/SkriptenMk/I_gW_23-27/blob/main/docs/250512/er.svg?raw=1)\n",
        "\n",
        "\n",
        "![Schlussbilanz](https://github.com/SkriptenMk/I_gW_23-27/blob/main/docs/250512/sb.svg?raw=1)"
      ]
    },
    {
      "cell_type": "markdown",
      "id": "dd8f2620",
      "metadata": {
        "id": "dd8f2620"
      },
      "source": [
        "Zusammen mit der Eröffnungsbilanz ergibt sich aus den drei Rechnungen die\n",
        "folgende CSV-Datei:\n",
        "\n",
        "```csv\n",
        "Kontonummer,Kontoname,Eroeffnung,Abschluss\n",
        "1000,Kasse,10,5\n",
        "1010,Post,13,58\n",
        "1020,Bankguthaben,2,2\n",
        "1100,FLL,40,55\n",
        "1109,WBForderungen,-4,-5\n",
        "1200,Waren,70,55\n",
        "1510,Mobilien,50,70\n",
        "1519,WBMobilien,-20,25\n",
        "1600,Immobilien,350,340\n",
        "2000,VLL,45,33\n",
        "2100,Bankschuld,9,11\n",
        "2261,Dividende,5,10\n",
        "2300,PRA,2,3\n",
        "2451,Hypothek,210,200\n",
        "2800,Aktienkapital,220,270\n",
        "2950,Reserven,20,26\n",
        "2970,Gewinnvortrag,0,2\n",
        "3200,Warenertrag,,560\n",
        "4200,Warenaufwand,,-392\n",
        "5000,Personalaufwand,,-110\n",
        "6700,Sonstiger Betriebsufwand,,-20\n",
        "6800,Abschreibungen,,-15\n",
        "6900,Finanzaufwand,,-5\n",
        "```\n",
        "\n",
        "Für die Erföffnungs- bzw. Schlussbilanz wird je eine eingene Spalte angelegt.\n",
        "Die Zahlen der Erfolgsrechnung werden in die Spalte 'Abschluss' eingetragen.\n",
        "Die Spalte 'Eroeffnung' wird für die Erfolgsrechnung nicht benötigt und bleibt\n",
        "leer.\n",
        "\n",
        "Die Datei steht [hier zum Download](data.csv) bereit."
      ]
    },
    {
      "cell_type": "markdown",
      "id": "84d71cc9",
      "metadata": {
        "id": "84d71cc9"
      },
      "source": [
        "Das Einlesen der CSV-Datei in einen pandas DataFrame erfolgt analog zum Einfürungsbeispiel."
      ]
    },
    {
      "cell_type": "code",
      "execution_count": null,
      "id": "f90810ea",
      "metadata": {
        "id": "f90810ea",
        "outputId": "daaf1eaa-5f67-478f-ed3e-6e4fcb110b4b"
      },
      "outputs": [
        {
          "data": {
            "text/html": [
              "<div>\n",
              "<style scoped>\n",
              "    .dataframe tbody tr th:only-of-type {\n",
              "        vertical-align: middle;\n",
              "    }\n",
              "\n",
              "    .dataframe tbody tr th {\n",
              "        vertical-align: top;\n",
              "    }\n",
              "\n",
              "    .dataframe thead th {\n",
              "        text-align: right;\n",
              "    }\n",
              "</style>\n",
              "<table border=\"1\" class=\"dataframe\">\n",
              "  <thead>\n",
              "    <tr style=\"text-align: right;\">\n",
              "      <th></th>\n",
              "      <th>Kontoname</th>\n",
              "      <th>Eroeffnung</th>\n",
              "      <th>Abschluss</th>\n",
              "    </tr>\n",
              "    <tr>\n",
              "      <th>Kontonummer</th>\n",
              "      <th></th>\n",
              "      <th></th>\n",
              "      <th></th>\n",
              "    </tr>\n",
              "  </thead>\n",
              "  <tbody>\n",
              "    <tr>\n",
              "      <th>1000</th>\n",
              "      <td>Kasse</td>\n",
              "      <td>10</td>\n",
              "      <td>5</td>\n",
              "    </tr>\n",
              "    <tr>\n",
              "      <th>1010</th>\n",
              "      <td>Post</td>\n",
              "      <td>13</td>\n",
              "      <td>58</td>\n",
              "    </tr>\n",
              "    <tr>\n",
              "      <th>1020</th>\n",
              "      <td>Bankguthaben</td>\n",
              "      <td>2</td>\n",
              "      <td>2</td>\n",
              "    </tr>\n",
              "    <tr>\n",
              "      <th>1100</th>\n",
              "      <td>FLL</td>\n",
              "      <td>40</td>\n",
              "      <td>55</td>\n",
              "    </tr>\n",
              "    <tr>\n",
              "      <th>1109</th>\n",
              "      <td>WBForderungen</td>\n",
              "      <td>-4</td>\n",
              "      <td>-5</td>\n",
              "    </tr>\n",
              "  </tbody>\n",
              "</table>\n",
              "</div>"
            ],
            "text/plain": [
              "                 Kontoname  Eroeffnung  Abschluss\n",
              "Kontonummer                                      \n",
              "1000                 Kasse          10          5\n",
              "1010                  Post          13         58\n",
              "1020          Bankguthaben           2          2\n",
              "1100                   FLL          40         55\n",
              "1109         WBForderungen          -4         -5"
            ]
          },
          "execution_count": 26,
          "metadata": {},
          "output_type": "execute_result"
        }
      ],
      "source": [
        "df = pd.read_csv('data.csv',                    # Pfad zur CSV-Datei\n",
        "                 index_col=0,                   # Spalte 0 als Index verwenden\n",
        "                 dtype={'Eroeffnung': 'Int64'}  # Spalte Eroeffnung als Int64 einlesen (ist nicht zwingend nötig)\n",
        "                 )\n",
        "df.head()"
      ]
    },
    {
      "cell_type": "markdown",
      "id": "49801752",
      "metadata": {
        "id": "49801752"
      },
      "source": [
        "Mit dem Befehl `df.tail()` können die letzten fünf Zeilen des DataFrames\n",
        "angezeigt werden."
      ]
    },
    {
      "cell_type": "code",
      "execution_count": null,
      "id": "c0524de3",
      "metadata": {
        "id": "c0524de3",
        "outputId": "ab54c316-c6c5-4ae8-e097-4cb4f45e2260"
      },
      "outputs": [
        {
          "data": {
            "text/html": [
              "<div>\n",
              "<style scoped>\n",
              "    .dataframe tbody tr th:only-of-type {\n",
              "        vertical-align: middle;\n",
              "    }\n",
              "\n",
              "    .dataframe tbody tr th {\n",
              "        vertical-align: top;\n",
              "    }\n",
              "\n",
              "    .dataframe thead th {\n",
              "        text-align: right;\n",
              "    }\n",
              "</style>\n",
              "<table border=\"1\" class=\"dataframe\">\n",
              "  <thead>\n",
              "    <tr style=\"text-align: right;\">\n",
              "      <th></th>\n",
              "      <th>Kontoname</th>\n",
              "      <th>Eroeffnung</th>\n",
              "      <th>Abschluss</th>\n",
              "    </tr>\n",
              "    <tr>\n",
              "      <th>Kontonummer</th>\n",
              "      <th></th>\n",
              "      <th></th>\n",
              "      <th></th>\n",
              "    </tr>\n",
              "  </thead>\n",
              "  <tbody>\n",
              "    <tr>\n",
              "      <th>2970</th>\n",
              "      <td>Gewinnvortrag</td>\n",
              "      <td>0</td>\n",
              "      <td>2</td>\n",
              "    </tr>\n",
              "    <tr>\n",
              "      <th>3200</th>\n",
              "      <td>Warenertrag</td>\n",
              "      <td>&lt;NA&gt;</td>\n",
              "      <td>560</td>\n",
              "    </tr>\n",
              "    <tr>\n",
              "      <th>4200</th>\n",
              "      <td>Warenaufwand</td>\n",
              "      <td>&lt;NA&gt;</td>\n",
              "      <td>-392</td>\n",
              "    </tr>\n",
              "    <tr>\n",
              "      <th>5000</th>\n",
              "      <td>Personalaufwand</td>\n",
              "      <td>&lt;NA&gt;</td>\n",
              "      <td>-110</td>\n",
              "    </tr>\n",
              "    <tr>\n",
              "      <th>6700</th>\n",
              "      <td>Sonstiger Betriebsufwand</td>\n",
              "      <td>&lt;NA&gt;</td>\n",
              "      <td>-20</td>\n",
              "    </tr>\n",
              "    <tr>\n",
              "      <th>6800</th>\n",
              "      <td>Abschreibungen</td>\n",
              "      <td>&lt;NA&gt;</td>\n",
              "      <td>-15</td>\n",
              "    </tr>\n",
              "    <tr>\n",
              "      <th>6900</th>\n",
              "      <td>Finanzaufwand</td>\n",
              "      <td>&lt;NA&gt;</td>\n",
              "      <td>-5</td>\n",
              "    </tr>\n",
              "  </tbody>\n",
              "</table>\n",
              "</div>"
            ],
            "text/plain": [
              "                            Kontoname  Eroeffnung  Abschluss\n",
              "Kontonummer                                                 \n",
              "2970                    Gewinnvortrag           0          2\n",
              "3200                      Warenertrag        <NA>        560\n",
              "4200                     Warenaufwand        <NA>       -392\n",
              "5000                  Personalaufwand        <NA>       -110\n",
              "6700         Sonstiger Betriebsufwand        <NA>        -20\n",
              "6800                   Abschreibungen        <NA>        -15\n",
              "6900                    Finanzaufwand        <NA>         -5"
            ]
          },
          "execution_count": 27,
          "metadata": {},
          "output_type": "execute_result"
        }
      ],
      "source": [
        "df.tail(7)  # Ausgabe der letzten 7 Zeilen der Tabelle (DataFrame)"
      ]
    },
    {
      "cell_type": "markdown",
      "id": "812bdf87",
      "metadata": {
        "id": "812bdf87"
      },
      "source": [
        "Die Angabe `<NA>` bedeutet, dass in dieser Zelle kein Wert vorhanden ist."
      ]
    },
    {
      "cell_type": "markdown",
      "id": "e1aa9974",
      "metadata": {
        "id": "e1aa9974"
      },
      "source": [
        "Die so aufbereiteten Daten erlauben es, die Veränderung der liquiden Mittel zu berechnen."
      ]
    },
    {
      "cell_type": "code",
      "execution_count": null,
      "id": "856624f9",
      "metadata": {
        "id": "856624f9",
        "outputId": "9b775dfa-2b31-48a0-b138-6d86d1218ebf"
      },
      "outputs": [
        {
          "name": "stdout",
          "output_type": "stream",
          "text": [
            "Die Veränderung der liquiden Mittel beträgt: 40\n"
          ]
        }
      ],
      "source": [
        "veraenderung_liquide_mittel = df.loc[1000:1020, 'Abschluss'].sum() - df.loc[1000:1020, 'Eroeffnung'].sum()\n",
        "print(f\"Die Veränderung der liquiden Mittel beträgt: {veraenderung_liquide_mittel}\")"
      ]
    },
    {
      "cell_type": "markdown",
      "id": "bae15ebe",
      "metadata": {
        "id": "bae15ebe"
      },
      "source": [
        "Die zweite Variante, in der Zwischenresultate eigenen Variablen zugewiesen\n",
        "werden, entspricht eher en Konventionen der Python Programmierung. Sie ist\n",
        "vermutlich auch einfacher lesbar.\n",
        "\n",
        "*explicit is better than implicit*"
      ]
    },
    {
      "cell_type": "code",
      "execution_count": null,
      "id": "1d092c5c",
      "metadata": {
        "id": "1d092c5c",
        "outputId": "27dc6de6-3aca-4448-8145-d0f460d901f2"
      },
      "outputs": [
        {
          "name": "stdout",
          "output_type": "stream",
          "text": [
            "Die Veränderung der liquiden Mittel beträgt: 40\n"
          ]
        }
      ],
      "source": [
        "lm0 = df.loc[1000:1020]['Eroeffnung'].sum()    # Summe der liquiden Mittel der Eröffnungsbilanz\n",
        "lm1 = df.loc[1000:1020]['Abschluss'].sum()     # Summe der liquiden Mittel der Abschlussbilanz\n",
        "delta_lm = lm1 - lm0                           # Veränderung der liquiden Mittel\n",
        "print(f\"Die Veränderung der liquiden Mittel beträgt: {delta_lm}\")"
      ]
    },
    {
      "cell_type": "markdown",
      "id": "f9634f3a",
      "metadata": {
        "id": "f9634f3a"
      },
      "source": [
        "## Indirekte Berechnung des Cahs Flows"
      ]
    },
    {
      "cell_type": "markdown",
      "id": "3fc1174f",
      "metadata": {
        "id": "3fc1174f"
      },
      "source": [
        "Die Berechnung des Cash Flows aus betrieblicher Tätigkeit nach der indirekten\n",
        "Methode erfolgt nach der folgenden 'Formel' (vgl. Kontenrahmen KMU):\n",
        "\n",
        "$\\pm$  Jahresgewinn ($+$) oder Jahresverlust ($-$)  \n",
        "$\\pm$  Abschreibungen/Wertberichtigungen ($+$) und Zuschreibungen ($-$) auf Positionen des Anlagevermögens  \n",
        "$\\pm$  Bildung ($+$) und Auflösung ($-$) von Rückstellungen  \n",
        "$\\pm$  Wertminderung ($+$) und Werterhöhung ($-$) kurzfristig gehaltener Aktiven mit Börsenkurs  \n",
        "$\\pm$  Abnahme ($+$) oder Zunahme ($-$) Forderungen aus Lieferungen und Leistungen  \n",
        "$\\pm$  Abnahme ($+$) oder Zunahme ($-$) kurzfristiger Forderungen  \n",
        "$\\pm$  Abnahme ($+$) und Zunahme ($-$) Vorräte und nicht fakturierte Dienstleistungen  \n",
        "$\\pm$  Abnahme ($+$) und Zunahme ($-$) aktive Rechnungsabgrenzungen  \n",
        "$\\pm$  Zunahme ($+$) und Abnahme ($-$) Verbindlichkeiten aus Lieferungen und Leistungen  \n",
        "$\\pm$  Zunahme ($+$) und Abnahme ($-$) kurzfristige Verbindlichkeiten  \n",
        "$\\pm$  Zunahme ($+$) und Abnahme ($-$) passive Rechnungsabgrenzungen  \n",
        "$\\pm$  Verluste ($+$) und Gewinne ($-$) aus Veräusserungen von Sachanlagen  \n",
        "$\\pm$  Sonstige nicht fondswirksame Aufwände ($+$) und Erträge ($-$)  "
      ]
    },
    {
      "cell_type": "markdown",
      "id": "30b78a69",
      "metadata": {
        "id": "30b78a69"
      },
      "source": [
        "In der folgenden Zelle sind die einzelnen Zeilen der 'Formel' einer Variabel zugewiesen."
      ]
    },
    {
      "cell_type": "code",
      "execution_count": null,
      "id": "f7a29474",
      "metadata": {
        "id": "f7a29474"
      },
      "outputs": [],
      "source": [
        "# Berechnung des Jahresgewinns\n",
        "jahresgewinn    = df.loc[3000:8900]['Abschluss'].sum()\n",
        "# Berechnung der Abschreibungen - der Faktor -1 ist notwendig,\n",
        "# weil die Abschreibungen in der Erfolgsrechnung als Aufwand\n",
        "# ein negatives Vorzeichen haben\n",
        "abschreibungen  = df.loc[6800:6899]['Abschluss'].sum() * -1\n",
        "# Berechnung aller Rückstellungen\n",
        "rueckstellungen = ((df.loc[2330:2399]['Abschluss'].sum()  +\n",
        "                    df.loc[2600:2799]['Abschluss'].sum()) -\n",
        "                   (df.loc[2330:2399]['Eroeffnung'].sum() +\n",
        "                    df.loc[2600:2799]['Eroeffnung'].sum()))\n",
        "# Berechnung der Veränderung der zu Liquiditätszwecken\n",
        "# gehaltenen Wertpapiere\n",
        "delta_liquide_ws= (df.loc[1060:1069]['Abschluss'].sum() -\n",
        "                   df.loc[1060:1069]['Eroeffnung'].sum())\n",
        "# Berechnung der Veränderung der FLL\n",
        "delta_fll       = (df.loc[1100:1109]['Abschluss'].sum() -\n",
        "                   df.loc[1100:1109]['Eroeffnung'].sum())\n",
        "# Berechnung der Veränderung der anderen kurzfristigen\n",
        "# Forderungen\n",
        "delta_kf_ford   = (df.loc[1140:1199]['Abschluss'].sum() -\n",
        "                   df.loc[1140:1199]['Eroeffnung'].sum())\n",
        "# Berechnung der Veränderung der Vorräte\n",
        "delta_vorrat    = (df.loc[1200:1299]['Abschluss'].sum() -\n",
        "                   df.loc[1200:1299]['Eroeffnung'].sum())\n",
        "# Berechnung der Veränderung der aktiven Rechnungsabgrenzung\n",
        "delta_ara       = (df.loc[1300:1399]['Abschluss'].sum() -\n",
        "                   df.loc[1300:1399]['Eroeffnung'].sum())\n",
        "# Berechnung der Veränderung der VLL\n",
        "delta_vll       = (df.loc[2000:2099]['Abschluss'].sum() -\n",
        "                   df.loc[2000:2099]['Eroeffnung'].sum())\n",
        "# Berechnung der Veränderung der anderen kurzfristigen\n",
        "# Verbindlichkeiten\n",
        "delta_ue_verb   = ((df.loc[2200:2210]['Abschluss'].sum() -\n",
        "                   df.loc[2200:2210]['Eroeffnung'].sum()) +\n",
        "                    (df.loc[2270:2279]['Abschluss'].sum() -\n",
        "                   df.loc[2270:2279]['Eroeffnung'].sum()))\n",
        "# Berechnung der Veränderung der passiven Rechnungsabgrenzung\n",
        "delta_pra       = (df.loc[2300:2399]['Abschluss'].sum() -\n",
        "                   df.loc[2300:2399]['Eroeffnung'].sum())\n",
        "# Berechnung des übrigen liquiditätswirksamen Ergebnisses\n",
        "delta_rest      = (df.loc[8000:8999]['Abschluss'].sum() -\n",
        "                   df.loc[8000:8999]['Eroeffnung'].sum()) * -1"
      ]
    },
    {
      "cell_type": "markdown",
      "id": "9d6e487a",
      "metadata": {
        "id": "9d6e487a"
      },
      "source": [
        "Zur kontrolle der einzlenen Berechnungen werden die einzlnen Resultate in der\n",
        "folgenden Zelle ausgegeben."
      ]
    },
    {
      "cell_type": "code",
      "execution_count": null,
      "id": "2697f123",
      "metadata": {
        "id": "2697f123",
        "outputId": "11accf03-626b-4b84-9f79-d407fdd73dd1"
      },
      "outputs": [
        {
          "name": "stdout",
          "output_type": "stream",
          "text": [
            "Jahresgewinn: 18\n",
            "Abschreibungen: 15\n",
            "Rückstellungen: 0\n",
            "FLL: 14\n",
            "Liquide WS: 0\n",
            "Vorräte: -15\n",
            "ARA: 0\n",
            "VLL: -12\n",
            "Übrige Verbindlichkeiten: 0\n",
            "PRA: 1\n",
            "Rest: 0\n"
          ]
        }
      ],
      "source": [
        "print(f'Jahresgewinn: {jahresgewinn}')\n",
        "print(f'Abschreibungen: {abschreibungen}')\n",
        "print(f'Rückstellungen: {rueckstellungen}')\n",
        "print(f'FLL: {delta_fll}')\n",
        "print(f'Liquide WS: {delta_liquide_ws}')\n",
        "print(f'Vorräte: {delta_vorrat}')\n",
        "print(f'ARA: {delta_ara}')\n",
        "print(f'VLL: {delta_vll}')\n",
        "print(f'Übrige Verbindlichkeiten: {delta_ue_verb}')\n",
        "print(f'PRA: {delta_pra}')\n",
        "print(f'Rest: {delta_rest}')"
      ]
    },
    {
      "cell_type": "markdown",
      "id": "ed43a6b6",
      "metadata": {
        "id": "ed43a6b6"
      },
      "source": [
        "Die Berechnung des Cash Flows aus den obigen Teilresultaten erfolgt in der\n",
        "folgenden Zelle."
      ]
    },
    {
      "cell_type": "code",
      "execution_count": null,
      "id": "2c199306",
      "metadata": {
        "id": "2c199306",
        "outputId": "7cda47cc-5863-456a-b3bc-2c10721496e1"
      },
      "outputs": [
        {
          "name": "stdout",
          "output_type": "stream",
          "text": [
            "Der Cashflow beträgt: 23\n"
          ]
        }
      ],
      "source": [
        "cash_flow = (jahresgewinn +\n",
        "             abschreibungen +\n",
        "             rueckstellungen -\n",
        "             delta_fll -\n",
        "             delta_liquide_ws -\n",
        "             delta_kf_ford -\n",
        "             delta_vorrat -\n",
        "             delta_ara +\n",
        "             delta_vll +\n",
        "             delta_ue_verb +\n",
        "             delta_pra +\n",
        "             delta_rest\n",
        "             )\n",
        "print(f\"Der Cashflow beträgt: {cash_flow}\")"
      ]
    },
    {
      "cell_type": "markdown",
      "id": "d18b9361",
      "metadata": {
        "id": "d18b9361"
      },
      "source": [
        "### Formatierung der Ausgabe"
      ]
    },
    {
      "cell_type": "markdown",
      "id": "0c4d2c7d",
      "metadata": {
        "id": "0c4d2c7d"
      },
      "source": [
        "Das Resutlat kann mit hilfe der verschiedenen Formatierungsbefehele für Strings\n",
        "noch anschaulicher dargestellt werden. Die Berechnung der einzelnen Positionen\n",
        "wird gegenüber der obigen Vorgehensweise so umgestellt, dass die Berechnung des\n",
        "Cash Flow als reine Addition der einzelnen Positionen erfolgen kann."
      ]
    },
    {
      "cell_type": "code",
      "execution_count": null,
      "id": "0d5611ee",
      "metadata": {
        "id": "0d5611ee"
      },
      "outputs": [],
      "source": [
        "positionen = {}\n",
        "jahresgewinn    = df.loc[3000:8900]['Abschluss'].sum()\n",
        "positionen['Jahresgewinn'] = jahresgewinn\n",
        "abschreibungen  = df.loc[6800:6899]['Abschluss'].sum() * -1\n",
        "positionen['Abschreibungen'] = abschreibungen\n",
        "rueckstellungen = ((df.loc[2330:2399]['Abschluss'].sum()  +\n",
        "                    df.loc[2600:2799]['Abschluss'].sum()) -\n",
        "                   (df.loc[2330:2399]['Eroeffnung'].sum() +\n",
        "                    df.loc[2600:2799]['Eroeffnung'].sum())) * -1\n",
        "positionen['Rückstellungen'] = rueckstellungen\n",
        "delta_liquide_ws= (df.loc[1060:1069]['Eroeffnung'].sum() -\n",
        "                   df.loc[1060:1069]['Abschluss'].sum())\n",
        "positionen['Liquide WS'] = delta_liquide_ws\n",
        "delta_fll       = (df.loc[1100:1109]['Eroeffnung'].sum() -\n",
        "                   df.loc[1100:1109]['Abschluss'].sum())\n",
        "positionen['Veränderung FLL'] = delta_fll\n",
        "delta_kf_ford   = (df.loc[1140:1199]['Eroeffnung'].sum() -\n",
        "                   df.loc[1140:1199]['Abschluss'].sum())\n",
        "positionen['Veränderung übrige kf Forderungen'] = delta_kf_ford\n",
        "delta_vorrat    = (df.loc[1200:1299]['Eroeffnung'].sum() -\n",
        "                   df.loc[1200:1299]['Abschluss'].sum())\n",
        "positionen['Veränderung Vorräte'] = delta_vorrat\n",
        "delta_ara       = (df.loc[1300:1399]['Eroeffnung'].sum() -\n",
        "                   df.loc[1300:1399]['Abschluss'].sum())\n",
        "positionen['Veränderung ARA'] = delta_ara\n",
        "delta_vll       = (df.loc[2000:2099]['Abschluss'].sum() -\n",
        "                   df.loc[2000:2099]['Eroeffnung'].sum())\n",
        "positionen['Veränderung VLL'] = delta_vll\n",
        "delta_ue_verb   = ((df.loc[2200:2210]['Abschluss'].sum() -\n",
        "                   df.loc[2200:2210]['Eroeffnung'].sum()) +\n",
        "                    (df.loc[2270:2279]['Abschluss'].sum() -\n",
        "                   df.loc[2270:2279]['Eroeffnung'].sum()))\n",
        "positionen['Veränderung übrige Verbindlichkeiten'] = delta_ue_verb\n",
        "delta_pra       = (df.loc[2300:2399]['Abschluss'].sum() -\n",
        "                   df.loc[2300:2399]['Eroeffnung'].sum())\n",
        "positionen['Veränderung PRA'] = delta_pra\n",
        "delta_rest      = (df.loc[8000:8999]['Abschluss'].sum() -\n",
        "                   df.loc[8000:8999]['Eroeffnung'].sum()) * -1\n",
        "positionen['Veränderung übriger Fondsfremder Erfolg'] = delta_rest"
      ]
    },
    {
      "cell_type": "code",
      "execution_count": null,
      "id": "7ef97c9f",
      "metadata": {
        "id": "7ef97c9f"
      },
      "outputs": [],
      "source": [
        "cash_flow = (jahresgewinn +\n",
        "             abschreibungen +\n",
        "             rueckstellungen +\n",
        "             delta_fll +\n",
        "             delta_liquide_ws +\n",
        "             delta_kf_ford +\n",
        "             delta_vorrat +\n",
        "             delta_ara +\n",
        "             delta_vll +\n",
        "             delta_ue_verb +\n",
        "             delta_pra +\n",
        "             delta_rest\n",
        "             )"
      ]
    },
    {
      "cell_type": "code",
      "execution_count": null,
      "id": "270b5864",
      "metadata": {
        "id": "270b5864",
        "outputId": "47d441fe-e348-4aa3-8e1b-7fc28effb9ae"
      },
      "outputs": [
        {
          "name": "stdout",
          "output_type": "stream",
          "text": [
            "Indirekte Berechnung des Cash Flows\n",
            "Jahresgewinn                                    18\n",
            "Abschreibungen                                  15\n",
            "Veränderung FLL                                -14\n",
            "Veränderung Vorräte                             15\n",
            "Veränderung VLL                                -12\n",
            "Veränderung PRA                                  1\n",
            "Cash Flow                                       23\n"
          ]
        }
      ],
      "source": [
        "breite = 50\n",
        "titel = 'Indirekte Berechnung des Cash Flows\\n'\n",
        "for index, value in positionen.items():\n",
        "    if value != 0:\n",
        "        mitte = breite - len(index) - len(str(value))\n",
        "        breite_links = len(index) + mitte // 2\n",
        "        breite_rechts = len(str(value)) + mitte // 2\n",
        "        if breite_links + breite_rechts < breite:\n",
        "            breite_links += 1\n",
        "        titel += f\"{index:<{breite_links}}{value:>{breite_rechts}}\\n\"\n",
        "\n",
        "mitte = breite - len('Cashflow') - len(str(cash_flow))\n",
        "breite_links = len('Cashflow') + mitte // 2\n",
        "breite_rechts = len(str(cash_flow)) + mitte // 2\n",
        "if breite_links + breite_rechts < breite:\n",
        "    breite_links += 1\n",
        "cf = 'Cash Flow'\n",
        "cf_zahl = str(cash_flow)\n",
        "resultat = f'{cf:<{breite_links}}{cf_zahl:>{breite_rechts}}'\n",
        "titel += resultat\n",
        "\n",
        "print(titel)"
      ]
    },
    {
      "cell_type": "markdown",
      "id": "ce823387",
      "metadata": {
        "id": "ce823387"
      },
      "source": [
        "### Berechnung des Cash Flows als Funktion\n",
        "\n",
        "Die Berechnung und Darstellung des Cash Flows kann auch in einer Funktion\n",
        "zusammengefasst werden. Die Funktion `cashflow()` nimmt als Parameter den DataFrame\n",
        "`df` und gibt den Cash Flow als String zurück."
      ]
    },
    {
      "cell_type": "code",
      "execution_count": null,
      "id": "9ef575d5",
      "metadata": {
        "id": "9ef575d5"
      },
      "outputs": [],
      "source": [
        "def cash_flow(ledger: pd.DataFrame) -> None:\n",
        "    \"\"\"\n",
        "    Berechnet und druckt die indirekte Geldflussrechnung (Cash Flow Statement).\n",
        "\n",
        "    Diese Funktion berechnet die Veränderung der flüssigen Mittel nach der indirekten Methode.\n",
        "    Sie berücksichtigt den Jahresgewinn und passt diesen um nicht liquiditätswirksame Positionen\n",
        "    sowie Veränderungen im Nettoumlaufvermögen an.\n",
        "\n",
        "    Args:\n",
        "        ledger (pd.DataFrame): DataFrame mit Konten der Erfolgsrechnung und Bilanz.\n",
        "                             Muss die Spalten 'Eroeffnung' und 'Abschluss' enthalten.\n",
        "                             Der Index muss die Kontonummern gemäss Kontenrahmen VEB enthalten.\n",
        "\n",
        "    Returns:\n",
        "        None: Die Funktion gibt das Resultat direkt auf der Konsole aus.\n",
        "\n",
        "    Beispiel:\n",
        "        >>> cash_flow(ledger_df)\n",
        "        Indirekte Berechnung des Cash Flows\n",
        "        Jahresgewinn                                           100000\n",
        "        Abschreibungen                                          20000\n",
        "        ...\n",
        "        Cash Flow                                              150000\n",
        "    \"\"\"\n",
        "    positionen = {}\n",
        "\n",
        "    # Berechnung des Jahresgewinns (Konten 3000-8900)\n",
        "    jahresgewinn    = ledger.loc[3000:8900]['Abschluss'].sum()\n",
        "    positionen['Jahresgewinn'] = jahresgewinn\n",
        "\n",
        "    # Korrektur um Abschreibungen (Konten 6800-6899, Vorzeichenwechsel nötig)\n",
        "    abschreibungen  = ledger.loc[6800:6899]['Abschluss'].sum() * -1\n",
        "    positionen['Abschreibungen'] = abschreibungen\n",
        "\n",
        "    # Veränderung der Rückstellungen (Konten 2330-2399 und 2600-2799)\n",
        "    rueckstellungen = ((ledger.loc[2330:2399]['Abschluss'].sum()  +\n",
        "                       ledger.loc[2600:2799]['Abschluss'].sum()) -\n",
        "                      (ledger.loc[2330:2399]['Eroeffnung'].sum() +\n",
        "                       ledger.loc[2600:2799]['Eroeffnung'].sum())) * -1\n",
        "    positionen['Rückstellungen'] = rueckstellungen\n",
        "\n",
        "    # Veränderung der liquiden Wertschriften (Konten 1060-1069)\n",
        "    delta_liquide_ws= (ledger.loc[1060:1069]['Eroeffnung'].sum() -\n",
        "                       ledger.loc[1060:1069]['Abschluss'].sum())\n",
        "    positionen['Liquide WS'] = delta_liquide_ws\n",
        "\n",
        "    # Veränderung der Forderungen aus Lieferungen und Leistungen (Konten 1100-1109)\n",
        "    delta_fll       = (ledger.loc[1100:1109]['Eroeffnung'].sum() -\n",
        "                       ledger.loc[1100:1109]['Abschluss'].sum())\n",
        "    positionen['Veränderung FLL'] = delta_fll\n",
        "\n",
        "    # Veränderung der übrigen kurzfristigen Forderungen (Konten 1140-1199)\n",
        "    delta_kf_ford   = (ledger.loc[1140:1199]['Eroeffnung'].sum() -\n",
        "                       ledger.loc[1140:1199]['Abschluss'].sum())\n",
        "    positionen['Veränderung übrige kf Forderungen'] = delta_kf_ford\n",
        "\n",
        "    # Veränderung der Vorräte (Konten 1200-1299)\n",
        "    delta_vorrat    = (ledger.loc[1200:1299]['Eroeffnung'].sum() -\n",
        "                       ledger.loc[1200:1299]['Abschluss'].sum())\n",
        "    positionen['Veränderung Vorräte'] = delta_vorrat\n",
        "\n",
        "    # Veränderung der aktiven Rechnungsabgrenzungen (Konten 1300-1399)\n",
        "    delta_ara       = (ledger.loc[1300:1399]['Eroeffnung'].sum() -\n",
        "                       ledger.loc[1300:1399]['Abschluss'].sum())\n",
        "    positionen['Veränderung ARA'] = delta_ara\n",
        "\n",
        "    # Veränderung der Verbindlichkeiten aus Lieferungen und Leistungen (Konten 2000-2099)\n",
        "    delta_vll       = (ledger.loc[2000:2099]['Abschluss'].sum() -\n",
        "                       ledger.loc[2000:2099]['Eroeffnung'].sum())\n",
        "    positionen['Veränderung VLL'] = delta_vll\n",
        "\n",
        "    # Veränderung der übrigen Verbindlichkeiten (Konten 2200-2210 und 2270-2279)\n",
        "    delta_ue_verb   = ((ledger.loc[2200:2210]['Abschluss'].sum() -\n",
        "                        ledger.loc[2200:2210]['Eroeffnung'].sum()) +\n",
        "                       (ledger.loc[2270:2279]['Abschluss'].sum() -\n",
        "                        ledger.loc[2270:2279]['Eroeffnung'].sum()))\n",
        "    positionen['Veränderung übrige Verbindlichkeiten'] = delta_ue_verb\n",
        "\n",
        "    # Veränderung der passiven Rechnungsabgrenzungen (Konten 2300-2399)\n",
        "    delta_pra       = (ledger.loc[2300:2399]['Abschluss'].sum() -\n",
        "                       ledger.loc[2300:2399]['Eroeffnung'].sum())\n",
        "    positionen['Veränderung PRA'] = delta_pra\n",
        "\n",
        "    # Veränderung des übrigen fondsfremden Erfolgs (Konten 8000-8999)\n",
        "    delta_rest      = (ledger.loc[8000:8999]['Abschluss'].sum() -\n",
        "                       ledger.loc[8000:8999]['Eroeffnung'].sum()) * -1\n",
        "    positionen['Veränderung übriger Fondsfremder Erfolg'] = delta_rest\n",
        "\n",
        "    # Berechnung des totalen Cash Flows durch Addition aller Positionen\n",
        "    cash_flow = (jahresgewinn +\n",
        "                 abschreibungen +\n",
        "                 rueckstellungen +\n",
        "                 delta_fll +\n",
        "                 delta_liquide_ws +\n",
        "                 delta_kf_ford +\n",
        "                 delta_vorrat +\n",
        "                 delta_ara +\n",
        "                 delta_vll +\n",
        "                 delta_ue_verb +\n",
        "                 delta_pra +\n",
        "                 delta_rest\n",
        "                )\n",
        "\n",
        "    # Formatierung und Ausgabe des Berichts\n",
        "    breite = 50\n",
        "    titel = 'Indirekte Berechnung des Cash Flows\\n'\n",
        "    for index, value in positionen.items():\n",
        "        if value != 0:  # Nur Positionen mit Werten ungleich 0 ausgeben\n",
        "            mitte = breite - len(index) - len(str(value))\n",
        "            breite_links = len(index) + mitte // 2\n",
        "            breite_rechts = len(str(value)) + mitte // 2\n",
        "            if breite_links + breite_rechts < breite:\n",
        "                breite_links += 1\n",
        "            titel += f\"{index:<{breite_links}}{value:>{breite_rechts}}\\n\"\n",
        "\n",
        "    # Formatierung und Ausgabe der Cash Flow Summe\n",
        "    mitte = breite - len('Cashflow') - len(str(cash_flow))\n",
        "    breite_links = len('Cashflow') + mitte // 2\n",
        "    breite_rechts = len(str(cash_flow)) + mitte // 2\n",
        "    if breite_links + breite_rechts < breite:\n",
        "        breite_links += 1\n",
        "    cf = 'Cash Flow'\n",
        "    cf_zahl = str(cash_flow)\n",
        "    resultat = f'{cf:<{breite_links}}{cf_zahl:>{breite_rechts}}'\n",
        "    titel += resultat\n",
        "\n",
        "    print(titel)\n"
      ]
    },
    {
      "cell_type": "code",
      "execution_count": null,
      "id": "7bd96f07",
      "metadata": {
        "id": "7bd96f07",
        "outputId": "90eeef90-adb8-4b97-859b-861f3d232859"
      },
      "outputs": [
        {
          "name": "stdout",
          "output_type": "stream",
          "text": [
            "Indirekte Berechnung des Cash Flows\n",
            "Jahresgewinn                                    18\n",
            "Abschreibungen                                  15\n",
            "Veränderung FLL                                -14\n",
            "Veränderung Vorräte                             15\n",
            "Veränderung VLL                                -12\n",
            "Veränderung PRA                                  1\n",
            "Cash Flow                                       23\n"
          ]
        }
      ],
      "source": [
        "cash_flow(df)"
      ]
    }
  ],
  "metadata": {
    "kernelspec": {
      "display_name": ".venv",
      "language": "python",
      "name": "python3"
    },
    "language_info": {
      "codemirror_mode": {
        "name": "ipython",
        "version": 3
      },
      "file_extension": ".py",
      "mimetype": "text/x-python",
      "name": "python",
      "nbconvert_exporter": "python",
      "pygments_lexer": "ipython3",
      "version": "3.13.1"
    },
    "colab": {
      "provenance": []
    }
  },
  "nbformat": 4,
  "nbformat_minor": 5
}